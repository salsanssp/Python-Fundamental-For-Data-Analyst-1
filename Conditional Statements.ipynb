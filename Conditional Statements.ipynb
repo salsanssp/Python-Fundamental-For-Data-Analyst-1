{
 "cells": [
  {
   "cell_type": "markdown",
   "id": "be73f36b",
   "metadata": {},
   "source": [
    "# Conditional Statements\n",
    "Conditional Statements are statements in Python that provide a choice for the control flow based on a condition. It means that the control flow of the Python program will be decided based on the outcome of the condition."
   ]
  },
  {
   "cell_type": "markdown",
   "id": "095fcdcc",
   "metadata": {},
   "source": [
    "## 1. If Conditional Statement in Python\n",
    "If the simple code of block is to be performed if the condition holds then the if statement is used. Here the condition mentioned holds then the code of the block runs otherwise not."
   ]
  },
  {
   "cell_type": "code",
   "execution_count": 7,
   "id": "46ed0ce4",
   "metadata": {},
   "outputs": [
    {
     "name": "stdout",
     "output_type": "stream",
     "text": [
      "Enter your name: Azzura\n",
      "Ket: yes, my name is Azzura\n"
     ]
    }
   ],
   "source": [
    "name = (input('Enter your name: '))\n",
    "\n",
    "if name:\n",
    "    print('Ket: yes, my name is {}'.format(name))"
   ]
  },
  {
   "cell_type": "markdown",
   "id": "c6415881",
   "metadata": {},
   "source": [
    "## 2. If else Conditional Statements in Python\n",
    "In a conditional if Statement the additional block of code is merged as an else statement which is performed when if condition is false."
   ]
  },
  {
   "cell_type": "code",
   "execution_count": 10,
   "id": "bb246f83",
   "metadata": {},
   "outputs": [
    {
     "name": "stdout",
     "output_type": "stream",
     "text": [
      "Enter your age: 21\n",
      "Desc: already have a KTP\n"
     ]
    }
   ],
   "source": [
    "age = int(input('Enter your age: '))\n",
    "\n",
    "if age >= 17:\n",
    "    print('Desc: already have a KTP')\n",
    "else:\n",
    "    print(\"Desc: don't have an KTP\")"
   ]
  },
  {
   "cell_type": "markdown",
   "id": "f224a958",
   "metadata": {},
   "source": [
    "## 3. Nested if..else Conditional Statements in Python\n",
    "Nested if..else means an if-else statement inside another if statement. Or in simple words first, there is an outer if statement, and inside it another if – else statement is present and such type of statement is known as nested if statement. We can use one if or else if statement inside another if or else if statements."
   ]
  },
  {
   "cell_type": "code",
   "execution_count": 2,
   "id": "48f5aee2",
   "metadata": {},
   "outputs": [
    {
     "name": "stdout",
     "output_type": "stream",
     "text": [
      "letter: D\n",
      "letter isn't A, B and C\n"
     ]
    }
   ],
   "source": [
    "letter = input('letter: ')\n",
    "  \n",
    "if letter == \"B\": \n",
    "    print(\"letter is B\") \n",
    "  \n",
    "else: \n",
    "  \n",
    "    if letter == \"C\": \n",
    "        print(\"letter is C\") \n",
    "  \n",
    "    else: \n",
    "  \n",
    "        if letter == \"A\": \n",
    "            print(\"letter is A\") \n",
    "  \n",
    "        else: \n",
    "            print(\"letter isn't A, B and C\")"
   ]
  },
  {
   "cell_type": "markdown",
   "id": "c06c3c7f",
   "metadata": {},
   "source": [
    "## 4. If-elif-else Conditional Statements in Python\n",
    "The if statements are executed from the top down. As soon as one of the conditions controlling the if is true, the statement associated with that if is executed, and the rest of the ladder is bypassed. If none of the conditions is true, then the final “else” statement will be executed."
   ]
  },
  {
   "cell_type": "code",
   "execution_count": 9,
   "id": "a8cb9221",
   "metadata": {},
   "outputs": [
    {
     "name": "stdout",
     "output_type": "stream",
     "text": [
      "Enter your birth year: 2003\n",
      "Desc: Gen Z\n"
     ]
    }
   ],
   "source": [
    "year = int(input('Enter your birth year: '))\n",
    "\n",
    "if year < 1946:\n",
    "    print('There is no description')\n",
    "elif 1946 <= year <= 1964:\n",
    "    print('Desc: Baby Boomer')\n",
    "elif 1965 <= year <= 1980:\n",
    "    print('Desc: Gen X')\n",
    "elif 1981 <= year <= 1996:\n",
    "    print('Desc: Milenial')\n",
    "elif 1997 <= year <= 2012:\n",
    "    print('Desc: Gen Z')\n",
    "else:\n",
    "    print('Desc: Gen Alpha')"
   ]
  },
  {
   "cell_type": "markdown",
   "id": "60a4fb79",
   "metadata": {},
   "source": [
    "## 5. Ternary Expression Conditional Statements in Python\n",
    "The Python ternary Expression determines if a condition is true or false and then returns the appropriate value in accordance with the result. The ternary Expression is useful in cases where we need to assign a value to a variable based on a simple condition, and we want to keep our code more concise — all in just one line of code."
   ]
  },
  {
   "cell_type": "code",
   "execution_count": 3,
   "id": "c1d2076b",
   "metadata": {},
   "outputs": [
    {
     "name": "stdout",
     "output_type": "stream",
     "text": [
      "b is greater than a\n"
     ]
    }
   ],
   "source": [
    "a, b = 10, 20\n",
    "  \n",
    "print (\"Both a and b are equal\" if a == b else \"a is greater than b\"\n",
    "        if a > b else \"b is greater than a\")"
   ]
  },
  {
   "cell_type": "code",
   "execution_count": null,
   "id": "591a6a44",
   "metadata": {},
   "outputs": [],
   "source": []
  }
 ],
 "metadata": {
  "kernelspec": {
   "display_name": "Python 3 (ipykernel)",
   "language": "python",
   "name": "python3"
  },
  "language_info": {
   "codemirror_mode": {
    "name": "ipython",
    "version": 3
   },
   "file_extension": ".py",
   "mimetype": "text/x-python",
   "name": "python",
   "nbconvert_exporter": "python",
   "pygments_lexer": "ipython3",
   "version": "3.11.5"
  }
 },
 "nbformat": 4,
 "nbformat_minor": 5
}
