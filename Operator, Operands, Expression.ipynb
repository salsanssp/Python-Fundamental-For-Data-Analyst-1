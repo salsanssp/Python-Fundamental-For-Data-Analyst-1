{
 "cells": [
  {
   "cell_type": "markdown",
   "id": "463e5746-31fc-446d-bc51-1baa75d062bc",
   "metadata": {},
   "source": [
    "# Operator\n",
    "\n",
    "For Operator there are\n",
    "1. Addition (+)\n",
    "2. Subtraction (-)\n",
    "3. Multiplication (*)\n",
    "4. Powers od Number (**)\n",
    "5. Division (/)\n",
    "6. Intersection (//)\n",
    "7. Modula (%)"
   ]
  },
  {
   "cell_type": "markdown",
   "id": "17ae7617-265e-474b-aba7-c503f9de3fd8",
   "metadata": {},
   "source": [
    "## Addition (+)\n",
    "\n",
    "Addition can be used on numbers or strings"
   ]
  },
  {
   "cell_type": "code",
   "execution_count": 1,
   "id": "4abb682b-c8bb-4982-92d7-f3f885e091e8",
   "metadata": {},
   "outputs": [
    {
     "name": "stdout",
     "output_type": "stream",
     "text": [
      "7\n"
     ]
    }
   ],
   "source": [
    "print(2+5)"
   ]
  },
  {
   "cell_type": "code",
   "execution_count": 2,
   "id": "5e302ca1-6c28-4a40-bd45-386e3f2560c3",
   "metadata": {},
   "outputs": [
    {
     "data": {
      "text/plain": [
       "7"
      ]
     },
     "execution_count": 2,
     "metadata": {},
     "output_type": "execute_result"
    }
   ],
   "source": [
    "2+5"
   ]
  },
  {
   "cell_type": "code",
   "execution_count": 4,
   "id": "0e8c02d8-602a-4df5-8fd5-bb9daa84aa60",
   "metadata": {},
   "outputs": [
    {
     "data": {
      "text/plain": [
       "'Cocacola'"
      ]
     },
     "execution_count": 4,
     "metadata": {},
     "output_type": "execute_result"
    }
   ],
   "source": [
    "'Coca'+'cola'"
   ]
  },
  {
   "cell_type": "markdown",
   "id": "428518b9-b3f3-4cf4-a146-fc003735143a",
   "metadata": {},
   "source": [
    "`Remember to used ' ' when the data is string`"
   ]
  },
  {
   "cell_type": "markdown",
   "id": "d14cc16d-2345-4286-b182-5fa82550b8de",
   "metadata": {},
   "source": [
    "***"
   ]
  },
  {
   "cell_type": "markdown",
   "id": "5d9b8f0b-793a-4a54-85a4-58ab61f29e93",
   "metadata": {},
   "source": [
    "## Substraction (-)\n",
    "\n",
    "Substraction cannot be used on string"
   ]
  },
  {
   "cell_type": "code",
   "execution_count": 5,
   "id": "59a1819b-af62-44ff-81c4-4bdbcb10b964",
   "metadata": {},
   "outputs": [
    {
     "name": "stdout",
     "output_type": "stream",
     "text": [
      "5\n"
     ]
    }
   ],
   "source": [
    "print(8-3)"
   ]
  },
  {
   "cell_type": "code",
   "execution_count": 6,
   "id": "c2ae7430-e6d4-4601-af05-b4023c790c95",
   "metadata": {},
   "outputs": [
    {
     "data": {
      "text/plain": [
       "5"
      ]
     },
     "execution_count": 6,
     "metadata": {},
     "output_type": "execute_result"
    }
   ],
   "source": [
    "8-3"
   ]
  },
  {
   "cell_type": "markdown",
   "id": "5f9b497d-4f3a-41c8-be29-77126d58a2ba",
   "metadata": {},
   "source": [
    "***"
   ]
  },
  {
   "cell_type": "markdown",
   "id": "a7e7da72-f06a-4886-9c16-f8b88127eb81",
   "metadata": {},
   "source": [
    "## Multiplication * and Powers of Number **"
   ]
  },
  {
   "cell_type": "markdown",
   "id": "77f253bc-ca01-46e5-8a7c-04e5b978c56f",
   "metadata": {},
   "source": [
    "`multiplication`"
   ]
  },
  {
   "cell_type": "code",
   "execution_count": 7,
   "id": "cc4807e8-d2bb-4c2c-9f96-7f886755f2f0",
   "metadata": {},
   "outputs": [
    {
     "data": {
      "text/plain": [
       "'BerangBerang'"
      ]
     },
     "execution_count": 7,
     "metadata": {},
     "output_type": "execute_result"
    }
   ],
   "source": [
    "'Berang'*2"
   ]
  },
  {
   "cell_type": "code",
   "execution_count": 9,
   "id": "43614ad1-c433-4981-a556-509239eb1941",
   "metadata": {},
   "outputs": [
    {
     "data": {
      "text/plain": [
       "8"
      ]
     },
     "execution_count": 9,
     "metadata": {},
     "output_type": "execute_result"
    }
   ],
   "source": [
    "4*2"
   ]
  },
  {
   "cell_type": "markdown",
   "id": "b148f897-2aad-4e8b-9332-e6c58f5fadeb",
   "metadata": {},
   "source": [
    "`Powers of Number`"
   ]
  },
  {
   "cell_type": "code",
   "execution_count": 10,
   "id": "e1211ee5-611e-4610-b379-e6392ae4cc4e",
   "metadata": {},
   "outputs": [
    {
     "data": {
      "text/plain": [
       "16"
      ]
     },
     "execution_count": 10,
     "metadata": {},
     "output_type": "execute_result"
    }
   ],
   "source": [
    "4**2"
   ]
  },
  {
   "cell_type": "code",
   "execution_count": 12,
   "id": "2acc5569-d255-4077-8d37-2a807ed29ddb",
   "metadata": {},
   "outputs": [
    {
     "name": "stdout",
     "output_type": "stream",
     "text": [
      "16\n"
     ]
    }
   ],
   "source": [
    "print(4**2)"
   ]
  },
  {
   "cell_type": "markdown",
   "id": "d792dcdb-678d-44c9-8a80-2ddbd96614a2",
   "metadata": {},
   "source": [
    "***"
   ]
  },
  {
   "cell_type": "markdown",
   "id": "de0460a6-23b9-4446-8d2a-043be8287d34",
   "metadata": {},
   "source": [
    "## Division(/), Intersection(//) and Modula(%) "
   ]
  },
  {
   "cell_type": "markdown",
   "id": "8c1108a5-fc39-418a-a8a6-b950c992dbfb",
   "metadata": {},
   "source": [
    "`Division`"
   ]
  },
  {
   "cell_type": "code",
   "execution_count": 14,
   "id": "70c8834c-3366-4eba-b3c3-0cda50876f29",
   "metadata": {},
   "outputs": [
    {
     "data": {
      "text/plain": [
       "6.666666666666667"
      ]
     },
     "execution_count": 14,
     "metadata": {},
     "output_type": "execute_result"
    }
   ],
   "source": [
    "20/3"
   ]
  },
  {
   "cell_type": "code",
   "execution_count": 15,
   "id": "b952cf9e-ee3e-4cb9-ab10-2f25f806d93c",
   "metadata": {},
   "outputs": [
    {
     "name": "stdout",
     "output_type": "stream",
     "text": [
      "6.666666666666667\n"
     ]
    }
   ],
   "source": [
    "print(20/3)"
   ]
  },
  {
   "cell_type": "markdown",
   "id": "a926de45-ed7e-467c-93b3-2575fd54fcdc",
   "metadata": {},
   "source": [
    "`Intersection`"
   ]
  },
  {
   "cell_type": "code",
   "execution_count": 16,
   "id": "f0201d1f-4d9a-480c-a2b4-e5e2a4d5d400",
   "metadata": {},
   "outputs": [
    {
     "data": {
      "text/plain": [
       "6"
      ]
     },
     "execution_count": 16,
     "metadata": {},
     "output_type": "execute_result"
    }
   ],
   "source": [
    "20//3"
   ]
  },
  {
   "cell_type": "code",
   "execution_count": 17,
   "id": "b7782141-4040-41d6-a8e9-bc10cf820870",
   "metadata": {},
   "outputs": [
    {
     "name": "stdout",
     "output_type": "stream",
     "text": [
      "6\n"
     ]
    }
   ],
   "source": [
    "print(20//3)"
   ]
  },
  {
   "cell_type": "markdown",
   "id": "dfeaf71b-570c-42c9-a159-f59a24073839",
   "metadata": {},
   "source": [
    "`Modula`"
   ]
  },
  {
   "cell_type": "code",
   "execution_count": 19,
   "id": "c6015c76-8cc1-44c5-9b40-aaf8f3f975dd",
   "metadata": {},
   "outputs": [
    {
     "data": {
      "text/plain": [
       "2"
      ]
     },
     "execution_count": 19,
     "metadata": {},
     "output_type": "execute_result"
    }
   ],
   "source": [
    "20%3"
   ]
  },
  {
   "cell_type": "code",
   "execution_count": 21,
   "id": "e55bfe00-7ef5-493e-bf59-e7f7213b4dce",
   "metadata": {},
   "outputs": [
    {
     "ename": "NameError",
     "evalue": "name 'Print' is not defined",
     "output_type": "error",
     "traceback": [
      "\u001b[1;31m---------------------------------------------------------------------------\u001b[0m",
      "\u001b[1;31mNameError\u001b[0m                                 Traceback (most recent call last)",
      "Cell \u001b[1;32mIn[21], line 1\u001b[0m\n\u001b[1;32m----> 1\u001b[0m Print(\u001b[38;5;241m20\u001b[39m\u001b[38;5;241m%\u001b[39m\u001b[38;5;241m3\u001b[39m)\n",
      "\u001b[1;31mNameError\u001b[0m: name 'Print' is not defined"
     ]
    }
   ],
   "source": [
    "print(20%3)"
   ]
  },
  {
   "cell_type": "code",
   "execution_count": null,
   "id": "5142458c-2b5d-40cc-8bd4-68434ec4a464",
   "metadata": {},
   "outputs": [],
   "source": []
  }
 ],
 "metadata": {
  "kernelspec": {
   "display_name": "Python 3 (ipykernel)",
   "language": "python",
   "name": "python3"
  },
  "language_info": {
   "codemirror_mode": {
    "name": "ipython",
    "version": 3
   },
   "file_extension": ".py",
   "mimetype": "text/x-python",
   "name": "python",
   "nbconvert_exporter": "python",
   "pygments_lexer": "ipython3",
   "version": "3.11.7"
  }
 },
 "nbformat": 4,
 "nbformat_minor": 5
}
