{
 "cells": [
  {
   "cell_type": "markdown",
   "id": "bc8872b5-608a-480d-9cc2-34f69e79d6cd",
   "metadata": {},
   "source": [
    "Summation (+)"
   ]
  },
  {
   "cell_type": "code",
   "execution_count": 1,
   "id": "24d221ea-2c63-4d27-86b8-bf828e5dc847",
   "metadata": {},
   "outputs": [
    {
     "data": {
      "text/plain": [
       "13"
      ]
     },
     "execution_count": 1,
     "metadata": {},
     "output_type": "execute_result"
    }
   ],
   "source": [
    "5 + 8"
   ]
  },
  {
   "cell_type": "code",
   "execution_count": 2,
   "id": "53b18c82-d67f-4ec6-aa3e-f37fdade9f5d",
   "metadata": {},
   "outputs": [
    {
     "data": {
      "text/plain": [
       "'data'"
      ]
     },
     "execution_count": 2,
     "metadata": {},
     "output_type": "execute_result"
    }
   ],
   "source": [
    "\"da\" +\"ta\""
   ]
  },
  {
   "cell_type": "markdown",
   "id": "368aa6a1-21be-4e08-a661-8b1bcae8afa6",
   "metadata": {},
   "source": [
    "Subtraction (-)"
   ]
  },
  {
   "cell_type": "code",
   "execution_count": 3,
   "id": "7184c666-a4e5-4e20-8c2b-6a8a7060cf9b",
   "metadata": {},
   "outputs": [
    {
     "data": {
      "text/plain": [
       "3"
      ]
     },
     "execution_count": 3,
     "metadata": {},
     "output_type": "execute_result"
    }
   ],
   "source": [
    "8 - 5"
   ]
  },
  {
   "cell_type": "code",
   "execution_count": 4,
   "id": "4e856eb8-f147-44f0-bb52-ce945af931a1",
   "metadata": {},
   "outputs": [
    {
     "ename": "TypeError",
     "evalue": "unsupported operand type(s) for -: 'str' and 'str'",
     "output_type": "error",
     "traceback": [
      "\u001b[1;31m---------------------------------------------------------------------------\u001b[0m",
      "\u001b[1;31mTypeError\u001b[0m                                 Traceback (most recent call last)",
      "Cell \u001b[1;32mIn[4], line 1\u001b[0m\n\u001b[1;32m----> 1\u001b[0m \u001b[38;5;124m'\u001b[39m\u001b[38;5;124mda\u001b[39m\u001b[38;5;124m'\u001b[39m \u001b[38;5;241m-\u001b[39m \u001b[38;5;124m'\u001b[39m\u001b[38;5;124mta\u001b[39m\u001b[38;5;124m'\u001b[39m\n",
      "\u001b[1;31mTypeError\u001b[0m: unsupported operand type(s) for -: 'str' and 'str'"
     ]
    }
   ],
   "source": [
    "'da' - 'ta'"
   ]
  },
  {
   "cell_type": "markdown",
   "id": "cdf347cf-cf66-405e-a4c1-6052be0e469f",
   "metadata": {},
   "source": [
    "Multiplication (*)"
   ]
  },
  {
   "cell_type": "code",
   "execution_count": 5,
   "id": "7ece38be-1450-4029-bab8-633d368df1d8",
   "metadata": {},
   "outputs": [
    {
     "data": {
      "text/plain": [
       "10"
      ]
     },
     "execution_count": 5,
     "metadata": {},
     "output_type": "execute_result"
    }
   ],
   "source": [
    "2 * 5"
   ]
  },
  {
   "cell_type": "code",
   "execution_count": 6,
   "id": "10c3c6d1-9949-4285-ae9c-af80a2f41ff4",
   "metadata": {},
   "outputs": [
    {
     "data": {
      "text/plain": [
       "16"
      ]
     },
     "execution_count": 6,
     "metadata": {},
     "output_type": "execute_result"
    }
   ],
   "source": [
    "2 * 2 * 4"
   ]
  },
  {
   "cell_type": "markdown",
   "id": "5334f258-5e44-49bc-bb64-b32a8ec627cb",
   "metadata": {},
   "source": [
    "Repetition String "
   ]
  },
  {
   "cell_type": "code",
   "execution_count": 7,
   "id": "add51fb1-8575-44d4-bd3b-cfb07f23da62",
   "metadata": {},
   "outputs": [
    {
     "data": {
      "text/plain": [
       "'Haduh Haduh Haduh '"
      ]
     },
     "execution_count": 7,
     "metadata": {},
     "output_type": "execute_result"
    }
   ],
   "source": [
    "'Haduh ' *3 "
   ]
  },
  {
   "cell_type": "markdown",
   "id": "4285113a-a083-4698-a644-302967778063",
   "metadata": {},
   "source": [
    "Rank (**)"
   ]
  },
  {
   "cell_type": "code",
   "execution_count": 8,
   "id": "a7245101-28b0-4e7e-97c6-ab07c7c8dcbf",
   "metadata": {},
   "outputs": [
    {
     "data": {
      "text/plain": [
       "729"
      ]
     },
     "execution_count": 8,
     "metadata": {},
     "output_type": "execute_result"
    }
   ],
   "source": [
    "9 ** 3"
   ]
  },
  {
   "cell_type": "code",
   "execution_count": 9,
   "id": "ad681a34-5c5a-4d29-a202-8c5dba9e10ad",
   "metadata": {},
   "outputs": [
    {
     "data": {
      "text/plain": [
       "3.0"
      ]
     },
     "execution_count": 9,
     "metadata": {},
     "output_type": "execute_result"
    }
   ],
   "source": [
    "9 ** 0.5 "
   ]
  },
  {
   "cell_type": "markdown",
   "id": "6016ae67-1b3f-41b1-aeb1-49a8316d5428",
   "metadata": {},
   "source": [
    "Division (/)"
   ]
  },
  {
   "cell_type": "code",
   "execution_count": 10,
   "id": "79481d07-c9be-4825-a87f-5f05433b28e2",
   "metadata": {},
   "outputs": [
    {
     "data": {
      "text/plain": [
       "25.0"
      ]
     },
     "execution_count": 10,
     "metadata": {},
     "output_type": "execute_result"
    }
   ],
   "source": [
    "125 / 5"
   ]
  },
  {
   "cell_type": "code",
   "execution_count": 12,
   "id": "71b4b0cc-5f9e-4e4d-a006-5f094e2c3fc3",
   "metadata": {},
   "outputs": [
    {
     "data": {
      "text/plain": [
       "37.333333333333336"
      ]
     },
     "execution_count": 12,
     "metadata": {},
     "output_type": "execute_result"
    }
   ],
   "source": [
    "112 / 3"
   ]
  },
  {
   "cell_type": "markdown",
   "id": "0d9727f0-5959-4b0d-b1ae-e687e30bce73",
   "metadata": {},
   "source": [
    "Intersection (//)"
   ]
  },
  {
   "cell_type": "code",
   "execution_count": 13,
   "id": "1b2bc021-7105-49c9-9a75-a380ab3aead8",
   "metadata": {},
   "outputs": [
    {
     "data": {
      "text/plain": [
       "6"
      ]
     },
     "execution_count": 13,
     "metadata": {},
     "output_type": "execute_result"
    }
   ],
   "source": [
    "13//2"
   ]
  },
  {
   "cell_type": "code",
   "execution_count": 14,
   "id": "cee40b97-d51d-45c4-ba5b-10f37aa6b5a6",
   "metadata": {},
   "outputs": [
    {
     "data": {
      "text/plain": [
       "44"
      ]
     },
     "execution_count": 14,
     "metadata": {},
     "output_type": "execute_result"
    }
   ],
   "source": [
    "134//3"
   ]
  },
  {
   "cell_type": "markdown",
   "id": "1cad9837-c62a-426a-be27-9bc7cb453b57",
   "metadata": {},
   "source": [
    "Modula (%)"
   ]
  },
  {
   "cell_type": "code",
   "execution_count": 15,
   "id": "ce3e7bfb-2fbd-45c9-b70c-3965f61effee",
   "metadata": {},
   "outputs": [
    {
     "data": {
      "text/plain": [
       "1"
      ]
     },
     "execution_count": 15,
     "metadata": {},
     "output_type": "execute_result"
    }
   ],
   "source": [
    "13 % 2 "
   ]
  },
  {
   "cell_type": "code",
   "execution_count": 16,
   "id": "4c86e9e8-9733-43d1-9754-f6de4984e55c",
   "metadata": {},
   "outputs": [
    {
     "data": {
      "text/plain": [
       "2"
      ]
     },
     "execution_count": 16,
     "metadata": {},
     "output_type": "execute_result"
    }
   ],
   "source": [
    "134 % 3"
   ]
  }
 ],
 "metadata": {
  "kernelspec": {
   "display_name": "Python 3 (ipykernel)",
   "language": "python",
   "name": "python3"
  },
  "language_info": {
   "codemirror_mode": {
    "name": "ipython",
    "version": 3
   },
   "file_extension": ".py",
   "mimetype": "text/x-python",
   "name": "python",
   "nbconvert_exporter": "python",
   "pygments_lexer": "ipython3",
   "version": "3.11.7"
  },
  "widgets": {
   "application/vnd.jupyter.widget-state+json": {
    "state": {},
    "version_major": 2,
    "version_minor": 0
   }
  }
 },
 "nbformat": 4,
 "nbformat_minor": 5
}
