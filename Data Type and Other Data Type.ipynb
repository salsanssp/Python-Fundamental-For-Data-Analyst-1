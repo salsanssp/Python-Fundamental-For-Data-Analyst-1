{
 "cells": [
  {
   "cell_type": "markdown",
   "id": "a636b6e7",
   "metadata": {
    "jp-MarkdownHeadingCollapsed": true
   },
   "source": [
    "# Basic data types in Python:\n",
    "Python has several built-in data types and structures that are commonly used in programming and data analysis. Here are some of the most important ones:\n",
    "1. Numbers  \n",
    "Python has two main types of numbers: integers (int), floating-point numbers (float), and complex.\n",
    "2. String  \n",
    "A string is a sequence of characters, enclosed in quotes (either single or double). Strings can be used to represent text or any other sequence of characters.\n",
    "3. Boolean  \n",
    "A boolean is a value that is either True or False. Booleans are often used to represent logical expressions, such as whether a statement is true or false."
   ]
  },
  {
   "cell_type": "markdown",
   "id": "39575a96",
   "metadata": {},
   "source": [
    "## 1. Type Numbers:  \n",
    "- integers  \n",
    "Used to represent whole numbers, positive or negative.\n",
    "- float  \n",
    "Used to represent decimal numbers, positive or negative.\n",
    "- complex"
   ]
  },
  {
   "cell_type": "code",
   "execution_count": 1,
   "id": "094ed181",
   "metadata": {},
   "outputs": [],
   "source": [
    "a = 200"
   ]
  },
  {
   "cell_type": "code",
   "execution_count": 2,
   "id": "ea11bcc9",
   "metadata": {},
   "outputs": [
    {
     "data": {
      "text/plain": [
       "int"
      ]
     },
     "execution_count": 2,
     "metadata": {},
     "output_type": "execute_result"
    }
   ],
   "source": [
    "type(a)"
   ]
  },
  {
   "cell_type": "code",
   "execution_count": 3,
   "id": "02edf7a7",
   "metadata": {},
   "outputs": [],
   "source": [
    "b = 200.0"
   ]
  },
  {
   "cell_type": "code",
   "execution_count": 4,
   "id": "f7cc2673",
   "metadata": {
    "scrolled": true
   },
   "outputs": [
    {
     "data": {
      "text/plain": [
       "float"
      ]
     },
     "execution_count": 4,
     "metadata": {},
     "output_type": "execute_result"
    }
   ],
   "source": [
    "type(b)"
   ]
  },
  {
   "cell_type": "markdown",
   "id": "472ce08d",
   "metadata": {},
   "source": [
    "The difference between integer and float is that float contains a decimal point."
   ]
  },
  {
   "cell_type": "code",
   "execution_count": 5,
   "id": "b9acebaf",
   "metadata": {},
   "outputs": [],
   "source": [
    "c = 200.1"
   ]
  },
  {
   "cell_type": "code",
   "execution_count": 6,
   "id": "17a039e6",
   "metadata": {},
   "outputs": [
    {
     "data": {
      "text/plain": [
       "float"
      ]
     },
     "execution_count": 6,
     "metadata": {},
     "output_type": "execute_result"
    }
   ],
   "source": [
    "type(c)"
   ]
  },
  {
   "cell_type": "markdown",
   "id": "4bbe4b1c",
   "metadata": {},
   "source": [
    "The value of complex numbers is expressed in the form of x + yj, where x represents the real number and yj represents the imaginary number."
   ]
  },
  {
   "cell_type": "code",
   "execution_count": 7,
   "id": "870815f3",
   "metadata": {},
   "outputs": [],
   "source": [
    "d = 2.5 + 6j"
   ]
  },
  {
   "cell_type": "code",
   "execution_count": 8,
   "id": "e749bf20",
   "metadata": {},
   "outputs": [
    {
     "data": {
      "text/plain": [
       "complex"
      ]
     },
     "execution_count": 8,
     "metadata": {},
     "output_type": "execute_result"
    }
   ],
   "source": [
    "type(d)"
   ]
  },
  {
   "cell_type": "markdown",
   "id": "dedea88a",
   "metadata": {},
   "source": [
    "## 2.Type String:\n",
    "A string is a sequence of Unicode characters declared with single or double quotes. Multi-line strings can be indicated with three single (''') or double (\"\"\") quotes, or by using \\n."
   ]
  },
  {
   "cell_type": "code",
   "execution_count": 44,
   "id": "af1b1498",
   "metadata": {},
   "outputs": [],
   "source": [
    "a = \"Group 1\""
   ]
  },
  {
   "cell_type": "code",
   "execution_count": 45,
   "id": "a2bdbfff",
   "metadata": {},
   "outputs": [
    {
     "name": "stdout",
     "output_type": "stream",
     "text": [
      "Group 1\n"
     ]
    }
   ],
   "source": [
    "print(a)"
   ]
  },
  {
   "cell_type": "code",
   "execution_count": 46,
   "id": "d96d7832",
   "metadata": {},
   "outputs": [],
   "source": [
    "a = 'Group 1'"
   ]
  },
  {
   "cell_type": "code",
   "execution_count": 47,
   "id": "1493bdf0",
   "metadata": {},
   "outputs": [
    {
     "name": "stdout",
     "output_type": "stream",
     "text": [
      "Group 1\n"
     ]
    }
   ],
   "source": [
    "print(a)"
   ]
  },
  {
   "cell_type": "code",
   "execution_count": 24,
   "id": "15e2eac4",
   "metadata": {},
   "outputs": [
    {
     "data": {
      "text/plain": [
       "str"
      ]
     },
     "execution_count": 24,
     "metadata": {},
     "output_type": "execute_result"
    }
   ],
   "source": [
    "type(a)"
   ]
  },
  {
   "cell_type": "code",
   "execution_count": 25,
   "id": "f4e7f6ea",
   "metadata": {},
   "outputs": [
    {
     "data": {
      "text/plain": [
       "\"jum'at\""
      ]
     },
     "execution_count": 25,
     "metadata": {},
     "output_type": "execute_result"
    }
   ],
   "source": [
    "\"jum'at\""
   ]
  },
  {
   "cell_type": "code",
   "execution_count": 26,
   "id": "8a685282",
   "metadata": {},
   "outputs": [
    {
     "name": "stdout",
     "output_type": "stream",
     "text": [
      "jum'at\n"
     ]
    }
   ],
   "source": [
    "print(\"jum'at\")"
   ]
  },
  {
   "cell_type": "code",
   "execution_count": 48,
   "id": "38e3909e",
   "metadata": {},
   "outputs": [],
   "source": [
    "a = \"\"\"Group 1:\n",
    "1. Aisyah\n",
    "2. Difa\n",
    "3. Irfan\n",
    "4. Salsa\"\"\""
   ]
  },
  {
   "cell_type": "code",
   "execution_count": 49,
   "id": "0444453e",
   "metadata": {},
   "outputs": [
    {
     "name": "stdout",
     "output_type": "stream",
     "text": [
      "Group 1:\n",
      "1. Aisyah\n",
      "2. Difa\n",
      "3. Irfan\n",
      "4. Salsa\n"
     ]
    }
   ],
   "source": [
    "print(a)"
   ]
  },
  {
   "cell_type": "code",
   "execution_count": 50,
   "id": "3a23b841",
   "metadata": {},
   "outputs": [],
   "source": [
    "a = \"Group 1: \\n1. Aisyah \\n2. Difa \\n3. Irfan \\n4. Salsa\""
   ]
  },
  {
   "cell_type": "code",
   "execution_count": 51,
   "id": "0530ff3a",
   "metadata": {},
   "outputs": [
    {
     "name": "stdout",
     "output_type": "stream",
     "text": [
      "Group 1: \n",
      "1. Aisyah \n",
      "2. Difa \n",
      "3. Irfan \n",
      "4. Salsa\n"
     ]
    }
   ],
   "source": [
    "print(a)"
   ]
  },
  {
   "cell_type": "markdown",
   "id": "9b2e62a3",
   "metadata": {},
   "source": [
    "## 3. Type Boolean"
   ]
  },
  {
   "cell_type": "code",
   "execution_count": 67,
   "id": "f9c5738a",
   "metadata": {},
   "outputs": [
    {
     "data": {
      "text/plain": [
       "False"
      ]
     },
     "execution_count": 67,
     "metadata": {},
     "output_type": "execute_result"
    }
   ],
   "source": [
    "2 > 5"
   ]
  },
  {
   "cell_type": "code",
   "execution_count": 31,
   "id": "0e651435",
   "metadata": {},
   "outputs": [
    {
     "data": {
      "text/plain": [
       "False"
      ]
     },
     "execution_count": 31,
     "metadata": {},
     "output_type": "execute_result"
    }
   ],
   "source": [
    "2 == 5"
   ]
  },
  {
   "cell_type": "markdown",
   "id": "2150969e",
   "metadata": {},
   "source": [
    "NB:  \n",
    "= is used to store variables  \n",
    "== is used to compare calculations"
   ]
  },
  {
   "cell_type": "code",
   "execution_count": 32,
   "id": "5ab34952",
   "metadata": {},
   "outputs": [
    {
     "data": {
      "text/plain": [
       "True"
      ]
     },
     "execution_count": 32,
     "metadata": {},
     "output_type": "execute_result"
    }
   ],
   "source": [
    "2 <= 2"
   ]
  },
  {
   "cell_type": "code",
   "execution_count": 70,
   "id": "dcaa66ea",
   "metadata": {},
   "outputs": [
    {
     "data": {
      "text/plain": [
       "True"
      ]
     },
     "execution_count": 70,
     "metadata": {},
     "output_type": "execute_result"
    }
   ],
   "source": [
    "2 != 3"
   ]
  },
  {
   "cell_type": "markdown",
   "id": "20f9e882",
   "metadata": {},
   "source": [
    "NB:  \n",
    "!= is used to denote \"not equal to\" "
   ]
  },
  {
   "cell_type": "markdown",
   "id": "68581670",
   "metadata": {},
   "source": [
    "# Other data types in Python include:  \n",
    "a. List    \n",
    "b. Tuple  \n",
    "c. Set  \n",
    "d. Dictionary"
   ]
  },
  {
   "cell_type": "markdown",
   "id": "d3001c11",
   "metadata": {},
   "source": [
    "## a. List  \n",
    "It is a type of ordered collection data (ordered sequence, accessible by index), and is one of the commonly used variables in Python. Similar, but not identical to arrays in other programming languages. The difference is that elements in a Python list do not have to have the same data type."
   ]
  },
  {
   "cell_type": "code",
   "execution_count": 25,
   "id": "67534add",
   "metadata": {},
   "outputs": [],
   "source": [
    "a = [6, 20.24, \"MyEduSolve\"]"
   ]
  },
  {
   "cell_type": "code",
   "execution_count": 26,
   "id": "cf31b304",
   "metadata": {},
   "outputs": [
    {
     "name": "stdout",
     "output_type": "stream",
     "text": [
      "[6, 20.24, 'MyEduSolve']\n"
     ]
    }
   ],
   "source": [
    "print(a)"
   ]
  },
  {
   "cell_type": "code",
   "execution_count": 27,
   "id": "06b7d22f",
   "metadata": {},
   "outputs": [
    {
     "data": {
      "text/plain": [
       "list"
      ]
     },
     "execution_count": 27,
     "metadata": {},
     "output_type": "execute_result"
    }
   ],
   "source": [
    "type(a)"
   ]
  },
  {
   "cell_type": "markdown",
   "id": "863869ca",
   "metadata": {},
   "source": [
    "Ordered data means each data within it can be accessed with an index starting from 0."
   ]
  },
  {
   "cell_type": "code",
   "execution_count": 28,
   "id": "d066d56e",
   "metadata": {},
   "outputs": [
    {
     "data": {
      "text/plain": [
       "6"
      ]
     },
     "execution_count": 28,
     "metadata": {},
     "output_type": "execute_result"
    }
   ],
   "source": [
    "a[0]"
   ]
  },
  {
   "cell_type": "code",
   "execution_count": 29,
   "id": "53e3979d",
   "metadata": {},
   "outputs": [
    {
     "data": {
      "text/plain": [
       "20.24"
      ]
     },
     "execution_count": 29,
     "metadata": {},
     "output_type": "execute_result"
    }
   ],
   "source": [
    "a[1]"
   ]
  },
  {
   "cell_type": "code",
   "execution_count": 30,
   "id": "12506db8",
   "metadata": {},
   "outputs": [
    {
     "data": {
      "text/plain": [
       "'MyEduSolve'"
      ]
     },
     "execution_count": 30,
     "metadata": {},
     "output_type": "execute_result"
    }
   ],
   "source": [
    "a[2]"
   ]
  },
  {
   "cell_type": "markdown",
   "id": "0b07a40f-2916-4ee7-aebb-496efc918b55",
   "metadata": {},
   "source": [
    "Slicing"
   ]
  },
  {
   "cell_type": "code",
   "execution_count": 31,
   "id": "03c700a4-4a19-4cbd-8a7f-25054f6a2394",
   "metadata": {},
   "outputs": [
    {
     "name": "stdout",
     "output_type": "stream",
     "text": [
      "20.24\n"
     ]
    }
   ],
   "source": [
    "print(a[1])"
   ]
  },
  {
   "cell_type": "code",
   "execution_count": 32,
   "id": "18a0e584-80bb-4061-b65b-ff0d7ac1cfcb",
   "metadata": {},
   "outputs": [
    {
     "name": "stdout",
     "output_type": "stream",
     "text": [
      "6\n"
     ]
    }
   ],
   "source": [
    "print(a[0])"
   ]
  },
  {
   "cell_type": "code",
   "execution_count": 39,
   "id": "c82c9e16",
   "metadata": {},
   "outputs": [
    {
     "data": {
      "text/plain": [
       "int"
      ]
     },
     "execution_count": 39,
     "metadata": {},
     "output_type": "execute_result"
    }
   ],
   "source": [
    "type(a[0])"
   ]
  },
  {
   "cell_type": "code",
   "execution_count": 40,
   "id": "4f4e7766",
   "metadata": {},
   "outputs": [
    {
     "data": {
      "text/plain": [
       "float"
      ]
     },
     "execution_count": 40,
     "metadata": {},
     "output_type": "execute_result"
    }
   ],
   "source": [
    "type(a[1])"
   ]
  },
  {
   "cell_type": "code",
   "execution_count": 41,
   "id": "9fd19293",
   "metadata": {},
   "outputs": [
    {
     "data": {
      "text/plain": [
       "str"
      ]
     },
     "execution_count": 41,
     "metadata": {},
     "output_type": "execute_result"
    }
   ],
   "source": [
    "type(a[2])"
   ]
  },
  {
   "cell_type": "markdown",
   "id": "343937e3",
   "metadata": {},
   "source": [
    "The elements of a list data type can be changed."
   ]
  },
  {
   "cell_type": "code",
   "execution_count": 42,
   "id": "f1e9adae",
   "metadata": {},
   "outputs": [],
   "source": [
    "# Changing the first element to 4\n",
    "a[0] = 7"
   ]
  },
  {
   "cell_type": "code",
   "execution_count": 43,
   "id": "216550b2",
   "metadata": {},
   "outputs": [
    {
     "name": "stdout",
     "output_type": "stream",
     "text": [
      "7\n"
     ]
    }
   ],
   "source": [
    "print(a[0])"
   ]
  },
  {
   "cell_type": "markdown",
   "id": "1e63c78d-b647-439e-b137-b6f106301e1b",
   "metadata": {},
   "source": [
    "***"
   ]
  },
  {
   "cell_type": "markdown",
   "id": "c411eb1c-350e-431f-a9ca-447bf1e0ad3d",
   "metadata": {},
   "source": [
    "## B. Tuple\r\n",
    "\n",
    "Tuple is a type of list whose elements cannot be changed. Generally, tuples are used for data that is write-once, and can be executed more quickly. Tuples are defined with brackets [ ] and elements separated by commas."
   ]
  },
  {
   "cell_type": "code",
   "execution_count": 1,
   "id": "3c174b14-80c9-4d4b-93bb-d78a5f2722c0",
   "metadata": {},
   "outputs": [],
   "source": [
    "a = (1, \"Group 1\", \"Class B\", 4)"
   ]
  },
  {
   "cell_type": "code",
   "execution_count": 2,
   "id": "fee6d70e-03bc-4e1a-baed-f0a67560c4c5",
   "metadata": {},
   "outputs": [
    {
     "name": "stdout",
     "output_type": "stream",
     "text": [
      "(1, 'Group 1', 'Class B', 4)\n"
     ]
    }
   ],
   "source": [
    "print (a)"
   ]
  },
  {
   "cell_type": "code",
   "execution_count": 4,
   "id": "49b58a78-a300-478a-a677-8ad05b867c62",
   "metadata": {},
   "outputs": [
    {
     "data": {
      "text/plain": [
       "tuple"
      ]
     },
     "execution_count": 4,
     "metadata": {},
     "output_type": "execute_result"
    }
   ],
   "source": [
    "type(a)"
   ]
  },
  {
   "cell_type": "markdown",
   "id": "4ec476f4-1604-4b42-994a-ec34eb84c9f1",
   "metadata": {},
   "source": [
    "Slicing Tuple"
   ]
  },
  {
   "cell_type": "code",
   "execution_count": 5,
   "id": "92827693-8d6d-4caf-a6f3-f67fa6c88e56",
   "metadata": {},
   "outputs": [
    {
     "name": "stdout",
     "output_type": "stream",
     "text": [
      "Group 1\n"
     ]
    }
   ],
   "source": [
    "print(a[1])"
   ]
  },
  {
   "cell_type": "code",
   "execution_count": 6,
   "id": "e69fd476-c84e-4392-bdd2-b7b61e36dc8a",
   "metadata": {},
   "outputs": [
    {
     "name": "stdout",
     "output_type": "stream",
     "text": [
      "(1, 'Group 1')\n"
     ]
    }
   ],
   "source": [
    "print(a[0:2])"
   ]
  },
  {
   "cell_type": "markdown",
   "id": "e9bc7c96-da3b-4318-b51e-571d30a371db",
   "metadata": {},
   "source": [
    "The element of a tuple data type cannot be changed"
   ]
  },
  {
   "cell_type": "code",
   "execution_count": 7,
   "id": "352b9584-aff1-4014-afa8-a5c9cfcb8e06",
   "metadata": {},
   "outputs": [
    {
     "ename": "TypeError",
     "evalue": "'tuple' object does not support item assignment",
     "output_type": "error",
     "traceback": [
      "\u001b[1;31m---------------------------------------------------------------------------\u001b[0m",
      "\u001b[1;31mTypeError\u001b[0m                                 Traceback (most recent call last)",
      "Cell \u001b[1;32mIn[7], line 1\u001b[0m\n\u001b[1;32m----> 1\u001b[0m a[\u001b[38;5;241m0\u001b[39m]\u001b[38;5;241m=\u001b[39m\u001b[38;5;124m\"\u001b[39m\u001b[38;5;124mGroup 1 Class B\u001b[39m\u001b[38;5;124m\"\u001b[39m\n",
      "\u001b[1;31mTypeError\u001b[0m: 'tuple' object does not support item assignment"
     ]
    }
   ],
   "source": [
    "a[0]=\"Group 1 Class B\""
   ]
  },
  {
   "cell_type": "markdown",
   "id": "d5ccaa8b-58ea-4dad-aab9-cf5d838e5f7b",
   "metadata": {},
   "source": [
    "***"
   ]
  },
  {
   "cell_type": "markdown",
   "id": "98459d82-cdc6-4577-bd5e-df7551c7de3d",
   "metadata": {},
   "source": [
    "## c. Set and Union\n",
    "\n",
    "The SET data type is a type that stores unique elements. Numbers in elements in SET can be of type Vary, but cannot be Null This data type cannot perform slicing.\n",
    "\n",
    "Union combines two data into one without repetition. Intersection is data that combines data that is repeated in both data."
   ]
  },
  {
   "cell_type": "code",
   "execution_count": 9,
   "id": "996595a8-6b38-417d-82ba-f10e7cc95f13",
   "metadata": {},
   "outputs": [],
   "source": [
    "a = {1,1,1,5,5,5,7,7,7,7,7}"
   ]
  },
  {
   "cell_type": "code",
   "execution_count": 10,
   "id": "90947fa4-a1e6-43f4-a13f-072c04f67382",
   "metadata": {},
   "outputs": [
    {
     "data": {
      "text/plain": [
       "set"
      ]
     },
     "execution_count": 10,
     "metadata": {},
     "output_type": "execute_result"
    }
   ],
   "source": [
    "type(a)"
   ]
  },
  {
   "cell_type": "code",
   "execution_count": 11,
   "id": "20c6b0d3-906b-4ff9-8215-e2f1e4c9ee35",
   "metadata": {},
   "outputs": [
    {
     "name": "stdout",
     "output_type": "stream",
     "text": [
      "{1, 5, 7}\n"
     ]
    }
   ],
   "source": [
    "print(a)"
   ]
  },
  {
   "cell_type": "markdown",
   "id": "200cf0a1-1ffb-4c81-bb7e-f64380931e65",
   "metadata": {},
   "source": [
    "This type cannot use slicing"
   ]
  },
  {
   "cell_type": "code",
   "execution_count": 12,
   "id": "d7167fb3-476c-4020-9054-74814187c839",
   "metadata": {},
   "outputs": [
    {
     "ename": "TypeError",
     "evalue": "'set' object is not subscriptable",
     "output_type": "error",
     "traceback": [
      "\u001b[1;31m---------------------------------------------------------------------------\u001b[0m",
      "\u001b[1;31mTypeError\u001b[0m                                 Traceback (most recent call last)",
      "Cell \u001b[1;32mIn[12], line 1\u001b[0m\n\u001b[1;32m----> 1\u001b[0m \u001b[38;5;28mprint\u001b[39m(a[\u001b[38;5;241m1\u001b[39m])\n",
      "\u001b[1;31mTypeError\u001b[0m: 'set' object is not subscriptable"
     ]
    }
   ],
   "source": [
    "print(a[1])"
   ]
  },
  {
   "cell_type": "markdown",
   "id": "68ca0d49-9aaa-4711-a9c6-7523f2671c53",
   "metadata": {},
   "source": [
    "Union"
   ]
  },
  {
   "cell_type": "code",
   "execution_count": 13,
   "id": "bf9600e6-f053-4908-8625-4e52017eb5f9",
   "metadata": {},
   "outputs": [],
   "source": [
    "b = {1,2,4,5,8}"
   ]
  },
  {
   "cell_type": "code",
   "execution_count": 14,
   "id": "c9e1a940-f4a8-4e44-b304-b596eb924ce5",
   "metadata": {},
   "outputs": [
    {
     "name": "stdout",
     "output_type": "stream",
     "text": [
      "{1, 2, 4, 5, 8}\n"
     ]
    }
   ],
   "source": [
    "print(b)"
   ]
  },
  {
   "cell_type": "code",
   "execution_count": 15,
   "id": "b73a340c-7d70-4920-8c42-ce06b8605113",
   "metadata": {},
   "outputs": [
    {
     "data": {
      "text/plain": [
       "{1, 2, 4, 5, 7, 8}"
      ]
     },
     "execution_count": 15,
     "metadata": {},
     "output_type": "execute_result"
    }
   ],
   "source": [
    "a.union(b)"
   ]
  },
  {
   "cell_type": "markdown",
   "id": "753cdd0c-64a6-4bfa-b90b-457798a5413c",
   "metadata": {},
   "source": [
    "Intersection"
   ]
  },
  {
   "cell_type": "code",
   "execution_count": 16,
   "id": "689f9fba-84e0-4435-8a7a-44921d612418",
   "metadata": {},
   "outputs": [
    {
     "data": {
      "text/plain": [
       "{1, 5}"
      ]
     },
     "execution_count": 16,
     "metadata": {},
     "output_type": "execute_result"
    }
   ],
   "source": [
    "a.intersection(b)"
   ]
  },
  {
   "cell_type": "markdown",
   "id": "3c932c10-7d9b-4aba-ac7c-b6b22b2a04dc",
   "metadata": {},
   "source": [
    "***"
   ]
  },
  {
   "cell_type": "markdown",
   "id": "0652353a-aa53-4f4a-93bb-145354aa246a",
   "metadata": {},
   "source": [
    "## d. Dictionary\n",
    "\n",
    "Dictionaries are used to store data values in key:value pairs. A dictionary is a collection which is ordered, changeable and do not allow duplicates. Dictionaries can be used to store small to large data. To access the data, we must know the key. In Python, dictionaries are defined with braces and appendages:\n",
    "1. Each element of a key-value pair is separated by a comma (,)\n",
    "2. Key and value are separated by a colon (:)\n",
    "3. Key and Value can be any type of variable/object."
   ]
  },
  {
   "cell_type": "code",
   "execution_count": 20,
   "id": "622bdaf0-1dcf-4e8b-9ede-1e8a6e6a9cb2",
   "metadata": {},
   "outputs": [],
   "source": [
    "a = {\"class\": \"B\", \"Group\": 1}"
   ]
  },
  {
   "cell_type": "code",
   "execution_count": 21,
   "id": "54608330-a908-4943-a275-c5c14658dfcc",
   "metadata": {},
   "outputs": [
    {
     "data": {
      "text/plain": [
       "dict"
      ]
     },
     "execution_count": 21,
     "metadata": {},
     "output_type": "execute_result"
    }
   ],
   "source": [
    "type (a)"
   ]
  },
  {
   "cell_type": "code",
   "execution_count": 22,
   "id": "51ed1449-af23-49d7-994c-e061e7f25c53",
   "metadata": {},
   "outputs": [
    {
     "data": {
      "text/plain": [
       "'B'"
      ]
     },
     "execution_count": 22,
     "metadata": {},
     "output_type": "execute_result"
    }
   ],
   "source": [
    "a[\"class\"]"
   ]
  },
  {
   "cell_type": "code",
   "execution_count": 23,
   "id": "b074c919-99bf-472e-822b-a6dd002178c8",
   "metadata": {},
   "outputs": [
    {
     "data": {
      "text/plain": [
       "1"
      ]
     },
     "execution_count": 23,
     "metadata": {},
     "output_type": "execute_result"
    }
   ],
   "source": [
    "a[\"Group\"]"
   ]
  },
  {
   "cell_type": "markdown",
   "id": "8388b75a-74ea-43ec-b1e4-2b3c5ced9342",
   "metadata": {},
   "source": [
    "Nested Dictionary"
   ]
  },
  {
   "cell_type": "code",
   "execution_count": 18,
   "id": "08cba5c5-6f93-4423-b906-1601843e07a5",
   "metadata": {},
   "outputs": [],
   "source": [
    "b = {\"Verivery\": {\"Lead Vocal\": \"Gyehyeon\",\n",
    "                  \"Main Dancer\": \"Yongseung\"}\n",
    "                 }"
   ]
  },
  {
   "cell_type": "code",
   "execution_count": 19,
   "id": "38647671-7cd5-473b-919b-b7b29c52e020",
   "metadata": {},
   "outputs": [
    {
     "data": {
      "text/plain": [
       "'Gyehyeon'"
      ]
     },
     "execution_count": 19,
     "metadata": {},
     "output_type": "execute_result"
    }
   ],
   "source": [
    "b['Verivery']['Lead Vocal']"
   ]
  },
  {
   "cell_type": "code",
   "execution_count": 24,
   "id": "cb3fcd83-a44f-4938-9fd2-665f22b4885d",
   "metadata": {},
   "outputs": [
    {
     "data": {
      "text/plain": [
       "dict"
      ]
     },
     "execution_count": 24,
     "metadata": {},
     "output_type": "execute_result"
    }
   ],
   "source": [
    "type(b)"
   ]
  }
 ],
 "metadata": {
  "kernelspec": {
   "display_name": "Python 3 (ipykernel)",
   "language": "python",
   "name": "python3"
  },
  "language_info": {
   "codemirror_mode": {
    "name": "ipython",
    "version": 3
   },
   "file_extension": ".py",
   "mimetype": "text/x-python",
   "name": "python",
   "nbconvert_exporter": "python",
   "pygments_lexer": "ipython3",
   "version": "3.11.7"
  }
 },
 "nbformat": 4,
 "nbformat_minor": 5
}
