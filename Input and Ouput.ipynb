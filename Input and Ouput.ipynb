{
 "cells": [
  {
   "cell_type": "markdown",
   "id": "a9b17fbf",
   "metadata": {},
   "source": [
    "# Variabel Assignment in Python  \n",
    "A variable is a name that refers to a value stored in memory. In Python, variables do not need to be declared or defined in advance, as is the case in many other programming languages. To create a variable, you just assign it a value using the equal sign (=) and then start using it."
   ]
  },
  {
   "cell_type": "code",
   "execution_count": 1,
   "id": "2f67dc46",
   "metadata": {},
   "outputs": [],
   "source": [
    "a = 2.1\n",
    "# That means we store the value 3 (of type int) into variable a"
   ]
  },
  {
   "cell_type": "markdown",
   "id": "27a03c2b",
   "metadata": {},
   "source": [
    "# Print() Function \n",
    "The python print() function as the name suggests is used to print a python object(s) in Python as standard output."
   ]
  },
  {
   "cell_type": "code",
   "execution_count": 25,
   "id": "efd28696",
   "metadata": {},
   "outputs": [
    {
     "name": "stdout",
     "output_type": "stream",
     "text": [
      "How are you?\n"
     ]
    }
   ],
   "source": [
    "print(\"How are you?\")"
   ]
  },
  {
   "cell_type": "markdown",
   "id": "204349f8",
   "metadata": {},
   "source": [
    "# Inserting variable values into a string:\n",
    "\n",
    "1. Directly concatenate variables within the print() statement."
   ]
  },
  {
   "cell_type": "code",
   "execution_count": 10,
   "id": "b6dc4195",
   "metadata": {},
   "outputs": [],
   "source": [
    "Pathway = \"Data Analyst\""
   ]
  },
  {
   "cell_type": "code",
   "execution_count": 19,
   "id": "f6c1f2e1",
   "metadata": {},
   "outputs": [
    {
     "name": "stdout",
     "output_type": "stream",
     "text": [
      "One of the pathways available in MyEduSolve is Data Analyst\n"
     ]
    }
   ],
   "source": [
    "print(\"One of the pathways available in MyEduSolve is\", Pathway)"
   ]
  },
  {
   "cell_type": "markdown",
   "id": "7239ac62",
   "metadata": {},
   "source": [
    "2. To display text (string), you can use string format mechanism."
   ]
  },
  {
   "cell_type": "code",
   "execution_count": 20,
   "id": "3508c4cc",
   "metadata": {},
   "outputs": [
    {
     "name": "stdout",
     "output_type": "stream",
     "text": [
      "My pathway is Data Analyst\n"
     ]
    }
   ],
   "source": [
    "print('My pathway is {}'.format('Data Analyst'))"
   ]
  },
  {
   "cell_type": "code",
   "execution_count": 21,
   "id": "f2867513",
   "metadata": {},
   "outputs": [
    {
     "name": "stdout",
     "output_type": "stream",
     "text": [
      "My pathway is Data Analyst\n"
     ]
    }
   ],
   "source": [
    "print('My pathway is {}'.format(Pathway))"
   ]
  },
  {
   "cell_type": "markdown",
   "id": "1f1b38b4",
   "metadata": {},
   "source": [
    "3. Using the \"%\" operator combined with argument specifiers. Some common argument specifiers include:  \n",
    "- %s for string  \n",
    "- %d for integers  \n",
    "- %f for decimal numbers."
   ]
  },
  {
   "cell_type": "code",
   "execution_count": 14,
   "id": "c7b73e79",
   "metadata": {},
   "outputs": [],
   "source": [
    "pathway = \"Data Analyst\""
   ]
  },
  {
   "cell_type": "code",
   "execution_count": 15,
   "id": "bb4630cd",
   "metadata": {},
   "outputs": [
    {
     "data": {
      "text/plain": [
       "str"
      ]
     },
     "execution_count": 15,
     "metadata": {},
     "output_type": "execute_result"
    }
   ],
   "source": [
    "type(pathway)"
   ]
  },
  {
   "cell_type": "code",
   "execution_count": 22,
   "id": "cbe52b21",
   "metadata": {},
   "outputs": [],
   "source": [
    "group = 1"
   ]
  },
  {
   "cell_type": "code",
   "execution_count": 23,
   "id": "9c098a23",
   "metadata": {},
   "outputs": [
    {
     "data": {
      "text/plain": [
       "int"
      ]
     },
     "execution_count": 23,
     "metadata": {},
     "output_type": "execute_result"
    }
   ],
   "source": [
    "type(group)"
   ]
  },
  {
   "cell_type": "code",
   "execution_count": 24,
   "id": "094fbb93",
   "metadata": {},
   "outputs": [
    {
     "name": "stdout",
     "output_type": "stream",
     "text": [
      "In MyEduSolve, I am enrolled in the Data Analyst pathway and belong to group 1\n"
     ]
    }
   ],
   "source": [
    "print(\"In MyEduSolve, I am enrolled in the %s pathway and belong to group %d\" % (pathway, kelompok))"
   ]
  },
  {
   "cell_type": "markdown",
   "id": "754b95ce",
   "metadata": {},
   "source": [
    "# Input() Function\n",
    "The input() function in Python is used to take user input from the keyboard and return it as a string. The input() function takes an optional argument that is a prompt to display to the user."
   ]
  },
  {
   "cell_type": "code",
   "execution_count": 26,
   "id": "54e88e07",
   "metadata": {},
   "outputs": [
    {
     "name": "stdout",
     "output_type": "stream",
     "text": [
      "Alhamdulillah\n"
     ]
    },
    {
     "data": {
      "text/plain": [
       "'Alhamdulillah'"
      ]
     },
     "execution_count": 26,
     "metadata": {},
     "output_type": "execute_result"
    }
   ],
   "source": [
    "input()"
   ]
  },
  {
   "cell_type": "code",
   "execution_count": 30,
   "id": "33452c83",
   "metadata": {},
   "outputs": [
    {
     "name": "stdout",
     "output_type": "stream",
     "text": [
      "Name: handphone\n"
     ]
    }
   ],
   "source": [
    "item = input('Name: ')"
   ]
  },
  {
   "cell_type": "code",
   "execution_count": 31,
   "id": "0316cbc8",
   "metadata": {},
   "outputs": [
    {
     "name": "stdout",
     "output_type": "stream",
     "text": [
      "handphone\n"
     ]
    }
   ],
   "source": [
    "print(item)"
   ]
  },
  {
   "cell_type": "code",
   "execution_count": 32,
   "id": "af793599",
   "metadata": {},
   "outputs": [
    {
     "data": {
      "text/plain": [
       "str"
      ]
     },
     "execution_count": 32,
     "metadata": {},
     "output_type": "execute_result"
    }
   ],
   "source": [
    "type(item)"
   ]
  },
  {
   "cell_type": "code",
   "execution_count": 33,
   "id": "8ab4b0f9",
   "metadata": {},
   "outputs": [
    {
     "name": "stdout",
     "output_type": "stream",
     "text": [
      "Quantity of item: 2\n"
     ]
    }
   ],
   "source": [
    "quantity = input('Quantity of item: ')"
   ]
  },
  {
   "cell_type": "code",
   "execution_count": 34,
   "id": "0ffc7fad",
   "metadata": {},
   "outputs": [
    {
     "name": "stdout",
     "output_type": "stream",
     "text": [
      "2\n"
     ]
    }
   ],
   "source": [
    "print(quantity)"
   ]
  },
  {
   "cell_type": "code",
   "execution_count": 35,
   "id": "c69967a2",
   "metadata": {},
   "outputs": [
    {
     "data": {
      "text/plain": [
       "str"
      ]
     },
     "execution_count": 35,
     "metadata": {},
     "output_type": "execute_result"
    }
   ],
   "source": [
    "type(quantity)"
   ]
  },
  {
   "cell_type": "markdown",
   "id": "440517ce",
   "metadata": {},
   "source": [
    "The input() function always returns a string, even if the user enters a number or another data type. If you want to take input as an int, float, or any other data type, you need to explicitly convert it using typecasting."
   ]
  },
  {
   "cell_type": "code",
   "execution_count": 36,
   "id": "ad636129",
   "metadata": {},
   "outputs": [
    {
     "name": "stdout",
     "output_type": "stream",
     "text": [
      "Quantity of item: 2\n"
     ]
    }
   ],
   "source": [
    "#covert str to int\n",
    "quantity = input('Quantity of item: ')"
   ]
  },
  {
   "cell_type": "code",
   "execution_count": 38,
   "id": "0bf11c1e",
   "metadata": {},
   "outputs": [
    {
     "name": "stdout",
     "output_type": "stream",
     "text": [
      "2\n"
     ]
    }
   ],
   "source": [
    "print(quantity)"
   ]
  },
  {
   "cell_type": "code",
   "execution_count": 39,
   "id": "fe333440",
   "metadata": {},
   "outputs": [
    {
     "data": {
      "text/plain": [
       "str"
      ]
     },
     "execution_count": 39,
     "metadata": {},
     "output_type": "execute_result"
    }
   ],
   "source": [
    "type(quantity)"
   ]
  },
  {
   "cell_type": "code",
   "execution_count": null,
   "id": "52749bda",
   "metadata": {},
   "outputs": [],
   "source": []
  }
 ],
 "metadata": {
  "kernelspec": {
   "display_name": "Python 3 (ipykernel)",
   "language": "python",
   "name": "python3"
  },
  "language_info": {
   "codemirror_mode": {
    "name": "ipython",
    "version": 3
   },
   "file_extension": ".py",
   "mimetype": "text/x-python",
   "name": "python",
   "nbconvert_exporter": "python",
   "pygments_lexer": "ipython3",
   "version": "3.11.5"
  }
 },
 "nbformat": 4,
 "nbformat_minor": 5
}
