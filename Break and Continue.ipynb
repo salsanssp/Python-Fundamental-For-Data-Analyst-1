{
 "cells": [
  {
   "cell_type": "markdown",
   "id": "8b04b462-4973-4d42-a4e5-0bfbfcd231fc",
   "metadata": {},
   "source": [
    "# BREAK\n",
    "\n",
    "* The break statement stops the loop and then exits, followed by executing the statement after the loop block\r",
    "* \n",
    "If you have a nested loop, break will stop the loop according to the level or loop it is i\n",
    "* \r\n",
    "However, if it is placed in a second loop, for example, only that loop stops, not the main loop."
   ]
  },
  {
   "cell_type": "code",
   "execution_count": null,
   "id": "4f11255e-fbfb-4f51-a8bc-8112c36db419",
   "metadata": {},
   "outputs": [],
   "source": [
    "#basic syntax\n",
    "\n",
    "while or for condition:\n",
    "    # code block\n",
    "    if some_condition:\n",
    "        break\n",
    "    # more code"
   ]
  },
  {
   "cell_type": "markdown",
   "id": "d6182655-c008-4de7-a833-f1cc40e711a9",
   "metadata": {},
   "source": [
    "This is exemplified in the following for loop, which looks for spaces in the following words:"
   ]
  },
  {
   "cell_type": "code",
   "execution_count": 1,
   "id": "43d9a534-a9da-4ff4-ac77-ebd43ad2c2f8",
   "metadata": {},
   "outputs": [
    {
     "name": "stdout",
     "output_type": "stream",
     "text": [
      "D\n",
      "a\n",
      "t\n",
      "a\n"
     ]
    }
   ],
   "source": [
    "for i in \"Data Science\":\n",
    "    if i == \" \":\n",
    "        break\n",
    "    print(i)"
   ]
  },
  {
   "cell_type": "markdown",
   "id": "f3db236c-e075-42a9-a9bd-cee259c3b537",
   "metadata": {},
   "source": [
    "The loop prints characters only appear \"D\", \"a\", \"t\", \"a\" in the string \"Data Science\" because When the loop reaches the first space character (\" \"), the break statement is triggered so that the loop stops and does not will continue to the next character."
   ]
  },
  {
   "cell_type": "code",
   "execution_count": 2,
   "id": "21a128ad-ae1d-4fc3-bfcf-59467f4468f4",
   "metadata": {},
   "outputs": [
    {
     "name": "stdout",
     "output_type": "stream",
     "text": [
      "25\n",
      "26\n",
      "27\n",
      "28\n",
      "29\n",
      "Number 30 found!\n"
     ]
    }
   ],
   "source": [
    "#Find number 30 in the list\n",
    "\n",
    "for i in range(25,35):\n",
    "    if i == 30:\n",
    "        print(\"Number 30 found!\")\n",
    "        break\n",
    "    print(i)"
   ]
  },
  {
   "cell_type": "code",
   "execution_count": 4,
   "id": "df67a3ad-9962-4fdb-8ec0-6a4a8fc35e3e",
   "metadata": {},
   "outputs": [
    {
     "name": "stdout",
     "output_type": "stream",
     "text": [
      "M\n",
      "y\n",
      "E\n",
      "d\n",
      "u\n",
      "S\n",
      "o\n",
      "l\n",
      "v\n",
      "e\n"
     ]
    }
   ],
   "source": [
    "for i in \"MyEduSolve Data Analyst Kelompok 1\":\n",
    "    if i == ' ':\n",
    "        break\n",
    "    print(i)"
   ]
  },
  {
   "cell_type": "markdown",
   "id": "56d157e7-62e8-41f1-a4d2-3fb64d10a782",
   "metadata": {},
   "source": [
    "Note: \n",
    "It is important to use break judiciously, as overusing it can make the code harder to read and understand."
   ]
  },
  {
   "cell_type": "markdown",
   "id": "db1612d9-077f-4ece-87d1-69bb376fc7ce",
   "metadata": {},
   "source": [
    "# CONTINUE\n",
    "\n",
    "* The continue statement will stop the current iteration\r\n",
    "* Then proceed to the next iteration\r\n",
    "* Ignore statements that are between continue and the end of the loop block"
   ]
  },
  {
   "cell_type": "markdown",
   "id": "28c568b7-b5c9-4fd6-bce7-87b18427855a",
   "metadata": {},
   "source": [
    "Here's a basic example:"
   ]
  },
  {
   "cell_type": "code",
   "execution_count": 5,
   "id": "8149d221-ae8d-48ea-9355-204a7d7edd7f",
   "metadata": {},
   "outputs": [
    {
     "name": "stdout",
     "output_type": "stream",
     "text": [
      "D\n",
      "t\n",
      " \n",
      "n\n",
      "l\n",
      "y\n",
      "s\n",
      "i\n",
      "s\n"
     ]
    }
   ],
   "source": [
    "# The if condition will be omitted, for example condition = a, then characters \"a\" are skipped\n",
    "\n",
    "for i in \"Data analysis\":\n",
    "    if i == \"a\":\n",
    "        continue\n",
    "    print(i)"
   ]
  },
  {
   "cell_type": "code",
   "execution_count": 6,
   "id": "7d2ba670-b3f2-4437-8946-ee5404305dcc",
   "metadata": {},
   "outputs": [
    {
     "name": "stdout",
     "output_type": "stream",
     "text": [
      "25\n",
      "26\n",
      "27\n",
      "28\n",
      "29\n",
      "31\n",
      "32\n",
      "33\n",
      "34\n"
     ]
    }
   ],
   "source": [
    "for i in range(25,35):\n",
    "    if i == 30:\n",
    "        continue\n",
    "    print(i)"
   ]
  },
  {
   "cell_type": "markdown",
   "id": "7aab0132-8a81-4e79-a961-8fecc20622d1",
   "metadata": {},
   "source": [
    "Note:\n",
    "\n",
    "**\"Continue\"** is often used to handle special conditions within a loop, such as passing unwanted values, string or handling specific cases that require special actions."
   ]
  }
 ],
 "metadata": {
  "kernelspec": {
   "display_name": "Python 3 (ipykernel)",
   "language": "python",
   "name": "python3"
  },
  "language_info": {
   "codemirror_mode": {
    "name": "ipython",
    "version": 3
   },
   "file_extension": ".py",
   "mimetype": "text/x-python",
   "name": "python",
   "nbconvert_exporter": "python",
   "pygments_lexer": "ipython3",
   "version": "3.11.7"
  }
 },
 "nbformat": 4,
 "nbformat_minor": 5
}
