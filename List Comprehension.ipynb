{
 "cells": [
  {
   "cell_type": "code",
   "execution_count": 3,
   "id": "1d4fe62a-dfb6-4835-872e-d8b0b2572aed",
   "metadata": {},
   "outputs": [
    {
     "name": "stdout",
     "output_type": "stream",
     "text": [
      "[8, 27, 64]\n"
     ]
    }
   ],
   "source": [
    "angka = [2,3,4]\n",
    "kubik =[]\n",
    "for i in angka :\n",
    "    kubik.append (i**3)\n",
    "print (kubik)"
   ]
  },
  {
   "cell_type": "markdown",
   "id": "5c657617-873c-43dc-846d-a799741c8fe5",
   "metadata": {},
   "source": [
    "Writing in another way\n",
    "\n",
    "newList = [expression for_loop_one_or_more conditions]"
   ]
  },
  {
   "cell_type": "code",
   "execution_count": 2,
   "id": "e1c1fb84-2241-450b-a1db-a098454ec16f",
   "metadata": {},
   "outputs": [
    {
     "name": "stdout",
     "output_type": "stream",
     "text": [
      "[343, 512, 729]\n"
     ]
    }
   ],
   "source": [
    "angka =[7,8,9]\n",
    "kubik = [i**3 for i in angka]\n",
    "print (kubik)"
   ]
  },
  {
   "cell_type": "code",
   "execution_count": 14,
   "id": "7ed34969-3f01-4572-aa3f-93492c6d002e",
   "metadata": {},
   "outputs": [
    {
     "name": "stdout",
     "output_type": "stream",
     "text": [
      "['d']\n"
     ]
    }
   ],
   "source": [
    "abcd= ['a', 'b', 'c', 'd']\n",
    "defg = ['d', 'e', 'f', 'g']\n",
    "\n",
    "duplikat = []\n",
    "\n",
    "for i in abcd:\n",
    "    for j in defg:\n",
    "        if i == j:\n",
    "            duplikat.append(i)\n",
    "print (duplikat)"
   ]
  },
  {
   "cell_type": "code",
   "execution_count": 15,
   "id": "40307f94-e96b-4c82-9b03-bf2ed7a001cf",
   "metadata": {},
   "outputs": [
    {
     "name": "stdout",
     "output_type": "stream",
     "text": [
      "['d']\n"
     ]
    }
   ],
   "source": [
    "abcd= ['a', 'b', 'c', 'd']\n",
    "defg = ['d', 'e', 'f', 'g']\n",
    "\n",
    "duplikat = [ i for i in abcd for j in defg if i == j]\n",
    "print (duplikat)"
   ]
  },
  {
   "cell_type": "code",
   "execution_count": 1,
   "id": "4d6920df-fec8-4f5f-8652-73d91cc85106",
   "metadata": {},
   "outputs": [
    {
     "name": "stdout",
     "output_type": "stream",
     "text": [
      "[19, 'd']\n"
     ]
    }
   ],
   "source": [
    "abcd= ['a', 19, 'b', 'c', 'd']\n",
    "defg = ['d', 'e', 'f', 19, 'g']\n",
    "\n",
    "duplikat = []\n",
    "\n",
    "for i in abcd:\n",
    "    for j in defg:\n",
    "        if i == j:\n",
    "            duplikat.append(i)\n",
    "print (duplikat)"
   ]
  },
  {
   "cell_type": "markdown",
   "id": "3ce27fde-be9e-47e6-9908-a1e931befe37",
   "metadata": {},
   "source": [
    "Condition\n",
    "\n",
    "The condition is like a filter that only accepts the items that valuate to True"
   ]
  },
  {
   "cell_type": "code",
   "execution_count": 4,
   "id": "33ff4797-d6c3-40ff-91ad-163caa54cae7",
   "metadata": {},
   "outputs": [
    {
     "name": "stdout",
     "output_type": "stream",
     "text": [
      "['banana', 'cherry', 'kiwi', 'mango']\n"
     ]
    }
   ],
   "source": [
    "buah = [\"apple\", \"banana\", \"cherry\", \"kiwi\", \"mango\"]\n",
    "newlist = [a for a in buah if a != \"apple\"]\n",
    "print(newlist)"
   ]
  },
  {
   "cell_type": "markdown",
   "id": "c08a09a1-8182-4fb8-bcad-5ed96aefe754",
   "metadata": {},
   "source": [
    "Iterable\n",
    "\n",
    "The iterable can be any iterable object, like a list, tuple, set etc."
   ]
  },
  {
   "cell_type": "code",
   "execution_count": 13,
   "id": "947a741f-3698-4145-9cb9-9d988f9563a0",
   "metadata": {},
   "outputs": [
    {
     "name": "stdout",
     "output_type": "stream",
     "text": [
      "[0, 1, 2, 3, 4, 5, 6, 7, 8]\n"
     ]
    }
   ],
   "source": [
    "newlist = [a for a in range(20) if a <= 8]\n",
    "print(newlist)"
   ]
  },
  {
   "cell_type": "markdown",
   "id": "4fb3a1c3-4691-4546-b67f-5becbc32791f",
   "metadata": {},
   "source": [
    "Expression (Upper)\n",
    "\n",
    "The expression is the current item in the iteration, but it is also the outcome, which you can manipulate before it ends up like a list item in the new list.  \n",
    "underscore (_) is included in the naming of valid variables\n",
    " in general (_) is commonly used as a throwaway variable."
   ]
  },
  {
   "cell_type": "code",
   "execution_count": 5,
   "id": "c6f16fff-ad81-445d-a82d-62ab54384df1",
   "metadata": {},
   "outputs": [
    {
     "name": "stdout",
     "output_type": "stream",
     "text": [
      "['DATA', 'SCIENCE']\n"
     ]
    }
   ],
   "source": [
    "data = [\"data\", \"science\"]\n",
    "upper = [_.upper() for _ in data]\n",
    "print (upper)"
   ]
  },
  {
   "cell_type": "code",
   "execution_count": null,
   "id": "417a1bfc-5aa8-4cb3-9704-0c53a93841c6",
   "metadata": {},
   "outputs": [],
   "source": []
  }
 ],
 "metadata": {
  "kernelspec": {
   "display_name": "Python 3 (ipykernel)",
   "language": "python",
   "name": "python3"
  },
  "language_info": {
   "codemirror_mode": {
    "name": "ipython",
    "version": 3
   },
   "file_extension": ".py",
   "mimetype": "text/x-python",
   "name": "python",
   "nbconvert_exporter": "python",
   "pygments_lexer": "ipython3",
   "version": "3.11.7"
  },
  "widgets": {
   "application/vnd.jupyter.widget-state+json": {
    "state": {},
    "version_major": 2,
    "version_minor": 0
   }
  }
 },
 "nbformat": 4,
 "nbformat_minor": 5
}
